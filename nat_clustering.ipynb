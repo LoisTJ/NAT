{
 "cells": [
  {
   "cell_type": "code",
   "execution_count": 1,
   "metadata": {},
   "outputs": [],
   "source": [
    "import pandas as pd\n",
    "import numpy as np\n",
    "import pickle\n",
    "import sqlalchemy\n",
    "from utilities.config import *\n",
    "\n",
    "from sklearn.cluster import KMeans\n",
    "from sklearn import metrics\n",
    "from scipy.spatial.distance import cdist\n",
    "\n",
    "import matplotlib.pyplot as plt"
   ]
  },
  {
   "cell_type": "code",
   "execution_count": 16,
   "metadata": {},
   "outputs": [],
   "source": [
    "import warnings\n",
    "warnings.filterwarnings(\"ignore\")"
   ]
  },
  {
   "cell_type": "code",
   "execution_count": 2,
   "metadata": {},
   "outputs": [],
   "source": [
    "engine = sqlalchemy.create_engine(ALCHEMY+\"nat_poc\")"
   ]
  },
  {
   "cell_type": "code",
   "execution_count": 4,
   "metadata": {},
   "outputs": [],
   "source": [
    "vectors_df = pd.read_sql(\"\"\"SELECT * FROM nat_poc.skill_vectors;\"\"\", engine)"
   ]
  },
  {
   "cell_type": "markdown",
   "metadata": {},
   "source": [
    "### Clustering using K-means"
   ]
  },
  {
   "cell_type": "code",
   "execution_count": 7,
   "metadata": {},
   "outputs": [],
   "source": [
    "data = np.array(list(zip(*[vectors_df[col] for col in vectors_df.columns[1:]])))"
   ]
  },
  {
   "cell_type": "code",
   "execution_count": 9,
   "metadata": {},
   "outputs": [
    {
     "name": "stdout",
     "output_type": "stream",
     "text": [
      "20 clusters calculated\n",
      "40 clusters calculated\n",
      "60 clusters calculated\n",
      "80 clusters calculated\n"
     ]
    }
   ],
   "source": [
    "# k means determine k\n",
    "distortions = []\n",
    "K = range(1,100)\n",
    "for k in K:\n",
    "    kmeanModel = KMeans(n_clusters=k).fit(data)\n",
    "    kmeanModel.fit(data)\n",
    "    distortions.append(sum(np.min(cdist(data, kmeanModel.cluster_centers_, 'euclidean'), axis=1)) / data.shape[0])\n",
    "    if k % 20 == 0:\n",
    "        print(f\"{k} clusters calculated\")"
   ]
  },
  {
   "cell_type": "code",
   "execution_count": 10,
   "metadata": {},
   "outputs": [
    {
     "data": {
      "image/png": "[encoded data removed]",
      "text/plain": [
       "<Figure size 432x288 with 1 Axes>"
      ]
     },
     "metadata": {},
     "output_type": "display_data"
    }
   ],
   "source": [
    "# Plot the elbow\n",
    "plt.plot(K, distortions, 'bx-')\n",
    "plt.xlabel('k')\n",
    "plt.ylabel('Distortion')\n",
    "plt.title('The Elbow Method showing the optimal k')\n",
    "plt.show()"
   ]
  },
  {
   "cell_type": "code",
   "execution_count": 23,
   "metadata": {},
   "outputs": [],
   "source": [
    "optimal_k_clusters = 20"
   ]
  },
  {
   "cell_type": "code",
   "execution_count": 35,
   "metadata": {},
   "outputs": [
    {
     "data": {
      "text/plain": [
       "KMeans(algorithm='auto', copy_x=True, init='k-means++', max_iter=30,\n",
       "    n_clusters=20, n_init=20, n_jobs=1, precompute_distances='auto',\n",
       "    random_state=6868, tol=0.0001, verbose=0)"
      ]
     },
     "execution_count": 35,
     "metadata": {},
     "output_type": "execute_result"
    }
   ],
   "source": [
    "kmeanModel = KMeans(algorithm='auto', n_init=20, max_iter=30, n_clusters=optimal_k_clusters, random_state=6868).fit(data)\n",
    "kmeanModel.fit(data)"
   ]
  },
  {
   "cell_type": "code",
   "execution_count": 36,
   "metadata": {},
   "outputs": [
    {
     "name": "stdout",
     "output_type": "stream",
     "text": [
      "2414\n",
      "2414\n"
     ]
    }
   ],
   "source": [
    "print(len(kmeanModel.labels_))\n",
    "print(len(data))"
   ]
  },
  {
   "cell_type": "code",
   "execution_count": 37,
   "metadata": {},
   "outputs": [],
   "source": [
    "k_means_df = vectors_df[['skill']]\n",
    "k_means_df['label'] = list(kmeanModel.labels_)\n",
    "k_means_df.sort_values('label', inplace=True, ascending=True)"
   ]
  },
  {
   "cell_type": "code",
   "execution_count": 38,
   "metadata": {},
   "outputs": [],
   "source": [
    "k_means_df.to_csv(\"./model_output/k_means_16062022.csv\", index=False)"
   ]
  },
  {
   "cell_type": "code",
   "execution_count": 39,
   "metadata": {
    "scrolled": true
   },
   "outputs": [
    {
     "data": {
      "text/plain": [
       "1     1478\n",
       "3      106\n",
       "8      105\n",
       "0      103\n",
       "9      102\n",
       "13      83\n",
       "2       78\n",
       "11      66\n",
       "18      60\n",
       "5       58\n",
       "17      55\n",
       "19      51\n",
       "7       36\n",
       "14      27\n",
       "16       1\n",
       "12       1\n",
       "10       1\n",
       "6        1\n",
       "4        1\n",
       "15       1\n",
       "Name: label, dtype: int64"
      ]
     },
     "execution_count": 39,
     "metadata": {},
     "output_type": "execute_result"
    }
   ],
   "source": [
    "k_means_df.label.value_counts()"
   ]
  },
  {
   "cell_type": "markdown",
   "metadata": {},
   "source": [
    "##### Extremely poor performance as expected, try reducing number of features with PCA before running K-means"
   ]
  },
  {
   "cell_type": "code",
   "execution_count": 46,
   "metadata": {},
   "outputs": [],
   "source": [
    "from sklearn.preprocessing import StandardScaler\n",
    "from sklearn.decomposition import PCA"
   ]
  },
  {
   "cell_type": "code",
   "execution_count": 47,
   "metadata": {},
   "outputs": [],
   "source": [
    "x = vectors_df.iloc[:, 1:].values\n",
    "x = StandardScaler().fit_transform(x)"
   ]
  },
  {
   "cell_type": "code",
   "execution_count": 48,
   "metadata": {},
   "outputs": [
    {
     "data": {
      "text/plain": [
       "((2414, 200), 8.168003694011094e-19, 1.0)"
      ]
     },
     "execution_count": 48,
     "metadata": {},
     "output_type": "execute_result"
    }
   ],
   "source": [
    "x.shape, np.mean(x), np.std(x)"
   ]
  },
  {
   "cell_type": "code",
   "execution_count": 54,
   "metadata": {},
   "outputs": [],
   "source": [
    "skill_vec_pca_model = PCA(n_components=20, random_state=6868)\n",
    "pca_skill_vec = skill_vec_pca_model.fit_transform(x)"
   ]
  },
  {
   "cell_type": "code",
   "execution_count": 56,
   "metadata": {},
   "outputs": [],
   "source": [
    "pca_skill_vec_df = pd.DataFrame(data=pca_skill_vec, columns=['PC_1','PC_2','PC_3','PC_4','PC_5','PC_6','PC_7','PC_8','PC_9','PC_10','PC_11','PC_12','PC_13','PC_14','PC_15','PC_16','PC_17','PC_18','PC_19','PC_20'])"
   ]
  },
  {
   "cell_type": "code",
   "execution_count": 57,
   "metadata": {},
   "outputs": [
    {
     "name": "stdout",
     "output_type": "stream",
     "text": [
      "Explained variation per principal component: [0.0623292  0.0462702  0.04167611 0.03669464 0.03129572 0.02837081\n",
      " 0.02647923 0.02359577 0.01910051 0.01888143 0.0185599  0.01634597\n",
      " 0.01425976 0.01289395 0.0111601  0.01095237 0.01026484 0.01006355\n",
      " 0.00997509 0.00964701]\n"
     ]
    }
   ],
   "source": [
    "print(f\"Explained variation per principal component: {skill_vec_pca_model.explained_variance_ratio_}\")"
   ]
  },
  {
   "cell_type": "code",
   "execution_count": 58,
   "metadata": {},
   "outputs": [
    {
     "data": {
      "text/plain": [
       "0.45881616000000003"
      ]
     },
     "execution_count": 58,
     "metadata": {},
     "output_type": "execute_result"
    }
   ],
   "source": [
    "0.0623292 + 0.0462702 + 0.04167611 +0.03669464 +0.03129572 +0.02837081+0.02647923+ 0.02359577 +0.01910051 +0.01888143 +0.0185599 + 0.01634597+0.01425976 +0.01289395+ 0.0111601 + 0.01095237 +0.01026484 +0.01006355+0.00997509 +0.00964701"
   ]
  },
  {
   "cell_type": "markdown",
   "metadata": {},
   "source": [
    "##### PCA did not help, sum of 20 components only hold less than 50% variance of the 200 features"
   ]
  },
  {
   "cell_type": "markdown",
   "metadata": {},
   "source": [
    "### Clustering using Spectral"
   ]
  },
  {
   "cell_type": "code",
   "execution_count": 62,
   "metadata": {},
   "outputs": [],
   "source": [
    "from sklearn.cluster import SpectralClustering\n",
    "from sklearn.metrics import pairwise_distances\n",
    "from sklearn.manifold import TSNE\n",
    "\n",
    "import networkx as nx\n",
    "import seaborn as sns\n",
    "sns.set()"
   ]
  },
  {
   "cell_type": "markdown",
   "metadata": {},
   "source": [
    "#### Visualisation of embedding using T-SNE"
   ]
  },
  {
   "cell_type": "code",
   "execution_count": 70,
   "metadata": {},
   "outputs": [
    {
     "data": {
      "text/plain": [
       "(2414, 2)"
      ]
     },
     "execution_count": 70,
     "metadata": {},
     "output_type": "execute_result"
    }
   ],
   "source": [
    "x = vectors_df.iloc[:, 1:].values\n",
    "x_embedded = TSNE(n_components=2, learning_rate=200, init='random', random_state=6868).fit_transform(x)\n",
    "x_embedded.shape"
   ]
  },
  {
   "cell_type": "code",
   "execution_count": 139,
   "metadata": {},
   "outputs": [],
   "source": [
    "tsne_df = pd.DataFrame()"
   ]
  },
  {
   "cell_type": "code",
   "execution_count": 147,
   "metadata": {},
   "outputs": [],
   "source": [
    "pc_1_list = []\n",
    "pc_2_list = []\n",
    "for i in range(2414):\n",
    "    pc_1 = x_embedded[i][0]\n",
    "    pc_2 = x_embedded[i][1]\n",
    "    pc_1_list += [pc_1]\n",
    "    pc_2_list += [pc_2]"
   ]
  },
  {
   "cell_type": "code",
   "execution_count": 148,
   "metadata": {},
   "outputs": [],
   "source": [
    "tsne_df['skill'] = vectors_df.skill\n",
    "tsne_df['pc_1'] = pc_1_list\n",
    "tsne_df['pc_2'] = pc_2_list"
   ]
  },
  {
   "cell_type": "code",
   "execution_count": 149,
   "metadata": {},
   "outputs": [
    {
     "data": {
      "text/html": [
       "<div>\n",
       "<style scoped>\n",
       "    .dataframe tbody tr th:only-of-type {\n",
       "        vertical-align: middle;\n",
       "    }\n",
       "\n",
       "    .dataframe tbody tr th {\n",
       "        vertical-align: top;\n",
       "    }\n",
       "\n",
       "    .dataframe thead th {\n",
       "        text-align: right;\n",
       "    }\n",
       "</style>\n",
       "<table border=\"1\" class=\"dataframe\">\n",
       "  <thead>\n",
       "    <tr style=\"text-align: right;\">\n",
       "      <th></th>\n",
       "      <th>skill</th>\n",
       "      <th>pc_1</th>\n",
       "      <th>pc_2</th>\n",
       "    </tr>\n",
       "  </thead>\n",
       "  <tbody>\n",
       "    <tr>\n",
       "      <th>0</th>\n",
       "      <td>.net</td>\n",
       "      <td>24.441793</td>\n",
       "      <td>-21.529779</td>\n",
       "    </tr>\n",
       "    <tr>\n",
       "      <th>1</th>\n",
       "      <td>1password (software)</td>\n",
       "      <td>1.242393</td>\n",
       "      <td>-20.726391</td>\n",
       "    </tr>\n",
       "    <tr>\n",
       "      <th>2</th>\n",
       "      <td>2d animation</td>\n",
       "      <td>33.694588</td>\n",
       "      <td>13.751719</td>\n",
       "    </tr>\n",
       "    <tr>\n",
       "      <th>3</th>\n",
       "      <td>360 degree camera operations</td>\n",
       "      <td>-5.521698</td>\n",
       "      <td>0.904331</td>\n",
       "    </tr>\n",
       "    <tr>\n",
       "      <th>4</th>\n",
       "      <td>3d animation</td>\n",
       "      <td>35.498505</td>\n",
       "      <td>15.061076</td>\n",
       "    </tr>\n",
       "  </tbody>\n",
       "</table>\n",
       "</div>"
      ],
      "text/plain": [
       "                          skill       pc_1       pc_2\n",
       "0                          .net  24.441793 -21.529779\n",
       "1          1password (software)   1.242393 -20.726391\n",
       "2                  2d animation  33.694588  13.751719\n",
       "3  360 degree camera operations  -5.521698   0.904331\n",
       "4                  3d animation  35.498505  15.061076"
      ]
     },
     "execution_count": 149,
     "metadata": {},
     "output_type": "execute_result"
    }
   ],
   "source": [
    "tsne_df.head()"
   ]
  },
  {
   "cell_type": "code",
   "execution_count": 71,
   "metadata": {},
   "outputs": [],
   "source": [
    "# Unpickling\n",
    "with open(\"./model/nat_job_skill_wordvec.model\", \"rb\") as fp:\n",
    "    model = pickle.load(fp)"
   ]
  },
  {
   "cell_type": "code",
   "execution_count": 125,
   "metadata": {},
   "outputs": [],
   "source": [
    "def display_closestwords_tsnescatterplot(model, word, size):\n",
    "    arr = np.empty((0,size), dtype='f')\n",
    "    word_labels = [word]\n",
    "    close_words = model.similar_by_word(word)\n",
    "    arr = np.append(arr, np.array([model[word]]), axis=0)\n",
    "    for wrd_score in close_words:\n",
    "        wrd_vector = model[wrd_score[0]]\n",
    "        word_labels.append(wrd_score[0])\n",
    "        arr = np.append(arr, np.array([wrd_vector]), axis=0)\n",
    "        \n",
    "    tsne = TSNE(n_components=2, learning_rate=200, init='random', random_state=6868)\n",
    "    np.set_printoptions(suppress=True)\n",
    "    Y = tsne.fit_transform(arr)\n",
    "    x_coords = Y[:, 0]\n",
    "    y_coords = Y[:, 1]\n",
    "    plt.scatter(x_coords, y_coords)\n",
    "    for label, x, y in zip(word_labels, x_coords, y_coords):\n",
    "        plt.annotate(label, xy=(x, y), xytext=(5, 0), textcoords='offset points')\n",
    "        plt.xlim(x_coords.min()-10, x_coords.max()-10)\n",
    "        plt.ylim(y_coords.min()-10, y_coords.max()-10)\n",
    "    plt.show()"
   ]
  },
  {
   "cell_type": "code",
   "execution_count": 161,
   "metadata": {},
   "outputs": [
    {
     "data": {
      "image/png": "[encoded data removed]",
      "text/plain": [
       "<Figure size 432x288 with 1 Axes>"
      ]
     },
     "metadata": {},
     "output_type": "display_data"
    }
   ],
   "source": [
    "display_closestwords_tsnescatterplot(model, 'project management', 200) "
   ]
  },
  {
   "cell_type": "markdown",
   "metadata": {},
   "source": [
    "#### Using Google spectral clustering instead of sklearn"
   ]
  },
  {
   "cell_type": "code",
   "execution_count": 84,
   "metadata": {},
   "outputs": [],
   "source": [
    "from spectralcluster import SpectralClusterer"
   ]
  },
  {
   "cell_type": "code",
   "execution_count": 162,
   "metadata": {},
   "outputs": [],
   "source": [
    "def spectral_n_clusterer(n_clusters, data_features):\n",
    "    clusterer = SpectralClusterer(\n",
    "    min_clusters=int(n_clusters),\n",
    "    max_clusters=int(n_clusters)+20,\n",
    "    autotune=None,\n",
    "    laplacian_type=None,\n",
    "    refinement_options=None,\n",
    "    custom_dist=\"cosine\")\n",
    "    \n",
    "    cluster_labels = clusterer.predict(data_features)\n",
    "    \n",
    "    spectral_df = vectors_df[['skill']]\n",
    "    spectral_df['label'] = list(cluster_labels)\n",
    "    spectral_df.sort_values('label', inplace=True, ascending=True)\n",
    "    \n",
    "    return spectral_df"
   ]
  },
  {
   "cell_type": "code",
   "execution_count": 166,
   "metadata": {},
   "outputs": [],
   "source": [
    "spectral_20_df = spectral_n_clusterer(20, x)\n",
    "spectral_40_df = spectral_n_clusterer(40, x)\n",
    "spectral_50_df = spectral_n_clusterer(50, x)\n",
    "spectral_60_df = spectral_n_clusterer(60, x)"
   ]
  },
  {
   "cell_type": "code",
   "execution_count": 168,
   "metadata": {},
   "outputs": [],
   "source": [
    "spectral_20_df.to_csv(\"./model_output/spectral_20_16062022.csv\", index=False)\n",
    "spectral_40_df.to_csv(\"./model_output/spectral_40_16062022.csv\", index=False)\n",
    "spectral_50_df.to_csv(\"./model_output/spectral_50_16062022.csv\", index=False)\n",
    "spectral_60_df.to_csv(\"./model_output/spectral_60_16062022.csv\", index=False)"
   ]
  },
  {
   "cell_type": "code",
   "execution_count": 169,
   "metadata": {
    "scrolled": true
   },
   "outputs": [
    {
     "data": {
      "text/plain": [
       "44    132\n",
       "12     76\n",
       "31     70\n",
       "13     69\n",
       "8      68\n",
       "50     67\n",
       "47     63\n",
       "38     59\n",
       "9      58\n",
       "23     54\n",
       "10     53\n",
       "17     51\n",
       "15     50\n",
       "40     49\n",
       "1      46\n",
       "59     44\n",
       "30     43\n",
       "36     42\n",
       "35     41\n",
       "46     40\n",
       "54     40\n",
       "55     40\n",
       "3      39\n",
       "20     39\n",
       "58     39\n",
       "14     38\n",
       "21     37\n",
       "28     37\n",
       "16     35\n",
       "49     35\n",
       "24     35\n",
       "53     34\n",
       "45     34\n",
       "18     33\n",
       "19     33\n",
       "27     33\n",
       "32     33\n",
       "4      32\n",
       "51     32\n",
       "0      31\n",
       "29     30\n",
       "43     29\n",
       "48     29\n",
       "57     29\n",
       "42     29\n",
       "39     28\n",
       "37     28\n",
       "6      28\n",
       "2      28\n",
       "5      28\n",
       "41     27\n",
       "56     27\n",
       "11     26\n",
       "22     26\n",
       "25     26\n",
       "34     26\n",
       "7      25\n",
       "33     22\n",
       "52     21\n",
       "26     18\n",
       "Name: label, dtype: int64"
      ]
     },
     "execution_count": 169,
     "metadata": {},
     "output_type": "execute_result"
    }
   ],
   "source": [
    "spectral_60_df.label.value_counts()"
   ]
  },
  {
   "cell_type": "code",
   "execution_count": 170,
   "metadata": {},
   "outputs": [
    {
     "data": {
      "text/html": [
       "<div>\n",
       "<style scoped>\n",
       "    .dataframe tbody tr th:only-of-type {\n",
       "        vertical-align: middle;\n",
       "    }\n",
       "\n",
       "    .dataframe tbody tr th {\n",
       "        vertical-align: top;\n",
       "    }\n",
       "\n",
       "    .dataframe thead th {\n",
       "        text-align: right;\n",
       "    }\n",
       "</style>\n",
       "<table border=\"1\" class=\"dataframe\">\n",
       "  <thead>\n",
       "    <tr style=\"text-align: right;\">\n",
       "      <th></th>\n",
       "      <th>skill</th>\n",
       "      <th>label</th>\n",
       "    </tr>\n",
       "  </thead>\n",
       "  <tbody>\n",
       "    <tr>\n",
       "      <th>248</th>\n",
       "      <td>badminton</td>\n",
       "      <td>0</td>\n",
       "    </tr>\n",
       "    <tr>\n",
       "      <th>974</th>\n",
       "      <td>grep/egrep</td>\n",
       "      <td>0</td>\n",
       "    </tr>\n",
       "    <tr>\n",
       "      <th>1457</th>\n",
       "      <td>next.js</td>\n",
       "      <td>0</td>\n",
       "    </tr>\n",
       "    <tr>\n",
       "      <th>1458</th>\n",
       "      <td>nginx</td>\n",
       "      <td>0</td>\n",
       "    </tr>\n",
       "    <tr>\n",
       "      <th>1503</th>\n",
       "      <td>operational excellence</td>\n",
       "      <td>0</td>\n",
       "    </tr>\n",
       "  </tbody>\n",
       "</table>\n",
       "</div>"
      ],
      "text/plain": [
       "                       skill  label\n",
       "248                badminton      0\n",
       "974               grep/egrep      0\n",
       "1457                 next.js      0\n",
       "1458                   nginx      0\n",
       "1503  operational excellence      0"
      ]
     },
     "execution_count": 170,
     "metadata": {},
     "output_type": "execute_result"
    }
   ],
   "source": [
    "spectral_60_df.head()"
   ]
  },
  {
   "cell_type": "code",
   "execution_count": 171,
   "metadata": {},
   "outputs": [],
   "source": [
    "spectral_viz_df = spectral_40_df.merge(tsne_df, how='left', left_on='skill', right_on='skill')"
   ]
  },
  {
   "cell_type": "code",
   "execution_count": 172,
   "metadata": {},
   "outputs": [
    {
     "data": {
      "image/png": "[encoded data removed]",
      "text/plain": [
       "<Figure size 432x288 with 1 Axes>"
      ]
     },
     "metadata": {},
     "output_type": "display_data"
    }
   ],
   "source": [
    "plt.scatter(x=spectral_viz_df.pc_1, y=spectral_viz_df.pc_2, c=spectral_viz_df.label)\n",
    "plt.show()"
   ]
  },
  {
   "cell_type": "code",
   "execution_count": null,
   "metadata": {},
   "outputs": [],
   "source": []
  }
 ],
 "metadata": {
  "kernelspec": {
   "display_name": "Python 3",
   "language": "python",
   "name": "python3"
  },
  "language_info": {
   "codemirror_mode": {
    "name": "ipython",
    "version": 3
   },
   "file_extension": ".py",
   "mimetype": "text/x-python",
   "name": "python",
   "nbconvert_exporter": "python",
   "pygments_lexer": "ipython3",
   "version": "3.6.5"
  }
 },
 "nbformat": 4,
 "nbformat_minor": 4
}
