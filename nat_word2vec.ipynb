{
 "cells": [
  {
   "cell_type": "code",
   "execution_count": 1,
   "metadata": {},
   "outputs": [],
   "source": [
    "import pandas as pd\n",
    "import numpy as np\n",
    "import pickle\n",
    "\n",
    "from utilities.config import *\n",
    "from utilities.utils import *\n",
    "from gensim.models import Word2Vec, KeyedVectors\n",
    "\n",
    "import pymysql"
   ]
  },
  {
   "cell_type": "code",
   "execution_count": 2,
   "metadata": {},
   "outputs": [],
   "source": [
    "# Unpickling\n",
    "with open(\"./model/job_skill_corpus\", \"rb\") as fp:\n",
    "    job_skill_list = pickle.load(fp)"
   ]
  },
  {
   "cell_type": "code",
   "execution_count": 20,
   "metadata": {},
   "outputs": [],
   "source": [
    "cnx = pymysql.connect(\n",
    "    host=CONFIG_NAT['host'],\n",
    "    user=CONFIG_NAT['user'],\n",
    "    password=CONFIG_NAT['password'],\n",
    "    db=CONFIG_NAT['database'],\n",
    "    charset = 'utf8',\n",
    "    cursorclass=pymysql.cursors.DictCursor)\n",
    "cursor = cnx.cursor()"
   ]
  },
  {
   "cell_type": "code",
   "execution_count": 13,
   "metadata": {},
   "outputs": [],
   "source": [
    "model = Word2Vec(sentences=job_skill_list, size=200, window=30, min_count=1, workers=4)\n",
    "model.save(\"./model/nat_job_skill_wordvec.model\")"
   ]
  },
  {
   "cell_type": "code",
   "execution_count": 14,
   "metadata": {
    "scrolled": true
   },
   "outputs": [
    {
     "data": {
      "text/plain": [
       "2414"
      ]
     },
     "execution_count": 14,
     "metadata": {},
     "output_type": "execute_result"
    }
   ],
   "source": [
    "print(f\"The model has {len(model.wv.vocab)} unique skill vectors.\")"
   ]
  },
  {
   "cell_type": "code",
   "execution_count": 23,
   "metadata": {},
   "outputs": [
    {
     "data": {
      "text/plain": [
       "[('invision', 0.8040086030960083),\n",
       " ('figma', 0.7910892367362976),\n",
       " ('framer (software)', 0.7706668376922607),\n",
       " ('axure rp', 0.7687813639640808),\n",
       " ('adobe dreamweaver', 0.7440941333770752)]"
      ]
     },
     "execution_count": 23,
     "metadata": {},
     "output_type": "execute_result"
    }
   ],
   "source": [
    "# model.wv.most_similar(positive=['big data analytics','python'], negative=['plotly'], topn=5)\n",
    "model.wv.most_similar(positive=['adobe xd'], topn=5)\n",
    "# model.wv.most_similar(positive=['python'], topn=5)"
   ]
  },
  {
   "cell_type": "code",
   "execution_count": null,
   "metadata": {},
   "outputs": [],
   "source": []
  },
  {
   "cell_type": "markdown",
   "metadata": {},
   "source": [
    "### Insert into DB"
   ]
  },
  {
   "cell_type": "code",
   "execution_count": 16,
   "metadata": {
    "scrolled": true
   },
   "outputs": [],
   "source": [
    "skill_vector_df = pd.DataFrame()\n",
    "for skill, attrib in model.wv.vocab.items():\n",
    "    skill_vec = model.wv[skill]\n",
    "    skill_vector_df = skill_vector_df.append({'skill':skill, 'skill_vectors':skill_vec}, ignore_index=True)"
   ]
  },
  {
   "cell_type": "code",
   "execution_count": 17,
   "metadata": {},
   "outputs": [
    {
     "data": {
      "text/html": [
       "<div>\n",
       "<style scoped>\n",
       "    .dataframe tbody tr th:only-of-type {\n",
       "        vertical-align: middle;\n",
       "    }\n",
       "\n",
       "    .dataframe tbody tr th {\n",
       "        vertical-align: top;\n",
       "    }\n",
       "\n",
       "    .dataframe thead th {\n",
       "        text-align: right;\n",
       "    }\n",
       "</style>\n",
       "<table border=\"1\" class=\"dataframe\">\n",
       "  <thead>\n",
       "    <tr style=\"text-align: right;\">\n",
       "      <th></th>\n",
       "      <th>skill</th>\n",
       "      <th>skill_vectors</th>\n",
       "    </tr>\n",
       "  </thead>\n",
       "  <tbody>\n",
       "    <tr>\n",
       "      <th>0</th>\n",
       "      <td>sales and business development</td>\n",
       "      <td>[0.03194156, 0.12575376, 0.9065852, -1.961084,...</td>\n",
       "    </tr>\n",
       "    <tr>\n",
       "      <th>1</th>\n",
       "      <td>engineering problem solving</td>\n",
       "      <td>[-1.2087154, -0.9381196, 0.20606227, -0.012821...</td>\n",
       "    </tr>\n",
       "    <tr>\n",
       "      <th>2</th>\n",
       "      <td>applications support and enhancement</td>\n",
       "      <td>[-0.20772204, -1.2196033, 1.1390424, 2.875674,...</td>\n",
       "    </tr>\n",
       "    <tr>\n",
       "      <th>3</th>\n",
       "      <td>process control</td>\n",
       "      <td>[-2.5633702, -1.3956965, 0.03706379, -0.345627...</td>\n",
       "    </tr>\n",
       "    <tr>\n",
       "      <th>4</th>\n",
       "      <td>business opportunities development</td>\n",
       "      <td>[0.502539, 0.900933, 0.24350785, 0.91363716, -...</td>\n",
       "    </tr>\n",
       "  </tbody>\n",
       "</table>\n",
       "</div>"
      ],
      "text/plain": [
       "                                  skill  \\\n",
       "0        sales and business development   \n",
       "1           engineering problem solving   \n",
       "2  applications support and enhancement   \n",
       "3                       process control   \n",
       "4    business opportunities development   \n",
       "\n",
       "                                       skill_vectors  \n",
       "0  [0.03194156, 0.12575376, 0.9065852, -1.961084,...  \n",
       "1  [-1.2087154, -0.9381196, 0.20606227, -0.012821...  \n",
       "2  [-0.20772204, -1.2196033, 1.1390424, 2.875674,...  \n",
       "3  [-2.5633702, -1.3956965, 0.03706379, -0.345627...  \n",
       "4  [0.502539, 0.900933, 0.24350785, 0.91363716, -...  "
      ]
     },
     "execution_count": 17,
     "metadata": {},
     "output_type": "execute_result"
    }
   ],
   "source": [
    "skill_vector_df.head()"
   ]
  },
  {
   "cell_type": "code",
   "execution_count": 25,
   "metadata": {},
   "outputs": [],
   "source": [
    "insert_skill_vec_statmt = (\"\"\"\n",
    "              INSERT IGNORE INTO `nat_poc`.`skill_vectors`\n",
    "                (`skill`, `dim_1`, `dim_2`, `dim_3`, `dim_4`, `dim_5`, `dim_6`, `dim_7`, `dim_8`, `dim_9`, `dim_10`, `dim_11`, `dim_12`, `dim_13`, `dim_14`, `dim_15`, `dim_16`, `dim_17`, `dim_18`, `dim_19`, `dim_20`, `dim_21`, `dim_22`, `dim_23`, `dim_24`, `dim_25`, `dim_26`, `dim_27`, `dim_28`, `dim_29`, `dim_30`, `dim_31`, `dim_32`, `dim_33`, `dim_34`, `dim_35`, `dim_36`, `dim_37`, `dim_38`, `dim_39`, `dim_40`, `dim_41`, `dim_42`, `dim_43`, `dim_44`, `dim_45`, `dim_46`, `dim_47`, `dim_48`, `dim_49`, `dim_50`, `dim_51`, `dim_52`, `dim_53`, `dim_54`, `dim_55`, `dim_56`, `dim_57`, `dim_58`, `dim_59`, `dim_60`, `dim_61`, `dim_62`, `dim_63`, `dim_64`, `dim_65`, `dim_66`, `dim_67`, `dim_68`, `dim_69`, `dim_70`, `dim_71`, `dim_72`, `dim_73`, `dim_74`, `dim_75`, `dim_76`, `dim_77`, `dim_78`, `dim_79`, `dim_80`, `dim_81`, `dim_82`, `dim_83`, `dim_84`, `dim_85`, `dim_86`, `dim_87`, `dim_88`, `dim_89`, `dim_90`, `dim_91`, `dim_92`, `dim_93`, `dim_94`, `dim_95`, `dim_96`, `dim_97`, `dim_98`, `dim_99`, `dim_100`, `dim_101`, `dim_102`, `dim_103`, `dim_104`, `dim_105`, `dim_106`, `dim_107`, `dim_108`, `dim_109`, `dim_110`, `dim_111`, `dim_112`, `dim_113`, `dim_114`, `dim_115`, `dim_116`, `dim_117`, `dim_118`, `dim_119`, `dim_120`, `dim_121`, `dim_122`, `dim_123`, `dim_124`, `dim_125`, `dim_126`, `dim_127`, `dim_128`, `dim_129`, `dim_130`, `dim_131`, `dim_132`, `dim_133`, `dim_134`, `dim_135`, `dim_136`, `dim_137`, `dim_138`, `dim_139`, `dim_140`, `dim_141`, `dim_142`, `dim_143`, `dim_144`, `dim_145`, `dim_146`, `dim_147`, `dim_148`, `dim_149`, `dim_150`, `dim_151`, `dim_152`, `dim_153`, `dim_154`, `dim_155`, `dim_156`, `dim_157`, `dim_158`, `dim_159`, `dim_160`, `dim_161`, `dim_162`, `dim_163`, `dim_164`, `dim_165`, `dim_166`, `dim_167`, `dim_168`, `dim_169`, `dim_170`, `dim_171`, `dim_172`, `dim_173`, `dim_174`, `dim_175`, `dim_176`, `dim_177`, `dim_178`, `dim_179`, `dim_180`, `dim_181`, `dim_182`, `dim_183`, `dim_184`, `dim_185`, `dim_186`, `dim_187`, `dim_188`, `dim_189`, `dim_190`, `dim_191`, `dim_192`, `dim_193`, `dim_194`, `dim_195`, `dim_196`, `dim_197`, `dim_198`, `dim_199`, `dim_200`)\n",
    "                VALUES\n",
    "                (%s, %s, %s, %s, %s, %s, %s, %s, %s, %s, %s, %s, %s, %s, %s, %s, %s, %s, %s, %s, %s, %s, %s, %s, %s, %s, %s, %s, %s, %s, %s, %s, %s, %s, %s, %s, %s, %s, %s, %s, %s, %s, %s, %s, %s, %s, %s, %s, %s, %s, %s, %s, %s, %s, %s, %s, %s, %s, %s, %s, %s, %s, %s, %s, %s, %s, %s, %s, %s, %s, %s, %s, %s, %s, %s, %s, %s, %s, %s, %s, %s, %s, %s, %s, %s, %s, %s, %s, %s, %s, %s, %s, %s, %s, %s, %s, %s, %s, %s, %s, %s, %s, %s, %s, %s, %s, %s, %s, %s, %s, %s, %s, %s, %s, %s, %s, %s, %s, %s, %s, %s, %s, %s, %s, %s, %s, %s, %s, %s, %s, %s, %s, %s, %s, %s, %s, %s, %s, %s, %s, %s, %s, %s, %s, %s, %s, %s, %s, %s, %s, %s, %s, %s, %s, %s, %s, %s, %s, %s, %s, %s, %s, %s, %s, %s, %s, %s, %s, %s, %s, %s, %s, %s, %s, %s, %s, %s, %s, %s, %s, %s, %s, %s, %s, %s, %s, %s, %s, %s, %s, %s, %s, %s, %s, %s, %s, %s, %s, %s, %s, %s);\n",
    "                \"\"\")"
   ]
  },
  {
   "cell_type": "code",
   "execution_count": 24,
   "metadata": {
    "scrolled": true
   },
   "outputs": [],
   "source": [
    "col_names = ['skill'] + ['dim_'+str(i) for i in range(1, 200+1)]\n",
    "vector_list_of_list = [i for i in skill_vector_df[['skill','skill_vectors']].apply(lambda x: [x[0]] + list(x[1]), axis=1)]"
   ]
  },
  {
   "cell_type": "code",
   "execution_count": 30,
   "metadata": {
    "scrolled": true
   },
   "outputs": [],
   "source": [
    "skill_vector_sql = pd.DataFrame(vector_list_of_list, columns=col_names)"
   ]
  },
  {
   "cell_type": "code",
   "execution_count": 31,
   "metadata": {},
   "outputs": [
    {
     "data": {
      "text/plain": [
       "2414"
      ]
     },
     "execution_count": 31,
     "metadata": {},
     "output_type": "execute_result"
    }
   ],
   "source": [
    "cursor.executemany(insert_skill_vec_statmt, zip(*[skill_vector_sql[col].values.tolist() for col in skill_vector_sql]) )"
   ]
  },
  {
   "cell_type": "code",
   "execution_count": 33,
   "metadata": {},
   "outputs": [],
   "source": [
    "cnx.commit()"
   ]
  },
  {
   "cell_type": "code",
   "execution_count": 24,
   "metadata": {},
   "outputs": [],
   "source": [
    "def close_db():\n",
    "    cnx.close()\n",
    "    cursor.close()"
   ]
  },
  {
   "cell_type": "code",
   "execution_count": 27,
   "metadata": {},
   "outputs": [],
   "source": [
    "close_db()"
   ]
  },
  {
   "cell_type": "code",
   "execution_count": null,
   "metadata": {},
   "outputs": [],
   "source": []
  }
 ],
 "metadata": {
  "kernelspec": {
   "display_name": "Python 3",
   "language": "python",
   "name": "python3"
  },
  "language_info": {
   "codemirror_mode": {
    "name": "ipython",
    "version": 3
   },
   "file_extension": ".py",
   "mimetype": "text/x-python",
   "name": "python",
   "nbconvert_exporter": "python",
   "pygments_lexer": "ipython3",
   "version": "3.6.5"
  }
 },
 "nbformat": 4,
 "nbformat_minor": 4
}
